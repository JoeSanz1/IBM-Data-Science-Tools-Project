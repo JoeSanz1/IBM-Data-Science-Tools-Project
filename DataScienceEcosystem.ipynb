{
 "cells": [
  {
   "cell_type": "markdown",
   "id": "7f64b72a-3a17-4c1a-8de2-073da1663c41",
   "metadata": {
    "tags": []
   },
   "source": [
    "# Data Science Tools and Ecosystem"
   ]
  },
  {
   "cell_type": "markdown",
   "id": "32c789c6-a6af-4f53-97a9-437c6528a041",
   "metadata": {
    "tags": []
   },
   "source": [
    "## Author\n",
    "Joe Sanz"
   ]
  },
  {
   "cell_type": "markdown",
   "id": "4cd8000d-3ca1-4849-ab58-948979df784a",
   "metadata": {},
   "source": [
    "In this notebook, Data Science Tools and Ecosystem are summarized."
   ]
  },
  {
   "cell_type": "markdown",
   "id": "b4845c62-efd8-47c7-9ab9-eb4264445874",
   "metadata": {},
   "source": [
    "Objectives:\n",
    "\n",
    "- Demonstrate Markdown Headers and Body Text\n",
    "- List Common Data Science Libraries\n",
    "- Demonstrate Arithmetic Operations in Code Cells"
   ]
  },
  {
   "cell_type": "markdown",
   "id": "dd66a73b-58e6-4b4b-80bc-5bc164ce187e",
   "metadata": {},
   "source": [
    "Some of the popular languages that Data Scientists use are:\n",
    "1. Python\n",
    "2. R\n",
    "3. SQL"
   ]
  },
  {
   "cell_type": "markdown",
   "id": "50dc96c2-448d-4844-bc6f-1ae90d3fa14c",
   "metadata": {},
   "source": [
    "Some of the commonly used libraries used by Data Scientists include:\n",
    "- Pandas\n",
    "- Scikit-learn\n",
    "- NumPy"
   ]
  },
  {
   "cell_type": "markdown",
   "id": "0711fda0-1ec6-40e3-89f9-486b5df40c27",
   "metadata": {},
   "source": [
    "|Data Science Tools|\n",
    "|------------------|\n",
    "|Jupyter Notebook|\n",
    "|Apache Zeppelin|\n",
    "|RStudio|"
   ]
  },
  {
   "cell_type": "markdown",
   "id": "c5108912-48cf-4ca8-aa2f-1c9e5c27773b",
   "metadata": {},
   "source": [
    "### Below are a few examples of evaluating arithmetic expressions in Python"
   ]
  },
  {
   "cell_type": "code",
   "execution_count": 2,
   "id": "9e974216-3a15-42b4-9fae-cbdb13332acf",
   "metadata": {
    "tags": []
   },
   "outputs": [
    {
     "data": {
      "text/plain": [
       "17"
      ]
     },
     "execution_count": 2,
     "metadata": {},
     "output_type": "execute_result"
    }
   ],
   "source": [
    "# This a simple arithmetic expression to mutiply then add integers\n",
    "(3*4)+5"
   ]
  },
  {
   "cell_type": "code",
   "execution_count": 3,
   "id": "c762100a-9134-49c0-b7c9-bd6c6a06a053",
   "metadata": {
    "tags": []
   },
   "outputs": [
    {
     "data": {
      "text/plain": [
       "3.3333333333333335"
      ]
     },
     "execution_count": 3,
     "metadata": {},
     "output_type": "execute_result"
    }
   ],
   "source": [
    "# This will convert 200 minutes to hours by diving by 60\n",
    "\n",
    "200 / 60"
   ]
  }
 ],
 "metadata": {
  "kernelspec": {
   "display_name": "Python",
   "language": "python",
   "name": "conda-env-python-py"
  },
  "language_info": {
   "codemirror_mode": {
    "name": "ipython",
    "version": 3
   },
   "file_extension": ".py",
   "mimetype": "text/x-python",
   "name": "python",
   "nbconvert_exporter": "python",
   "pygments_lexer": "ipython3",
   "version": "3.7.12"
  }
 },
 "nbformat": 4,
 "nbformat_minor": 5
}
